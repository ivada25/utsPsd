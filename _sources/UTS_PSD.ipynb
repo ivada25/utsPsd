{
  "nbformat": 4,
  "nbformat_minor": 0,
  "metadata": {
    "colab": {
      "provenance": [],
      "collapsed_sections": [
        "to26vVTSrEsz"
      ]
    },
    "kernelspec": {
      "name": "python3",
      "display_name": "Python 3"
    },
    "language_info": {
      "name": "python"
    }
  },
  "cells": [
    {
      "cell_type": "markdown",
      "source": [
        "# UTS Proyek Sains Data \"Prediksi Produksi Listrik\""
      ],
      "metadata": {
        "id": "w4Oqo6KaU8OE"
      }
    },
    {
      "cell_type": "markdown",
      "source": [
        "*   Nama : Rizqiya Ivada\n",
        "*   Nim : 220411100090\n",
        "*   Kelas : Proyek Sains Data (D)\n",
        "\n",
        "\n",
        "\n"
      ],
      "metadata": {
        "id": "ZZPzeKK4VHXQ"
      }
    },
    {
      "cell_type": "markdown",
      "source": [
        "# Data Understanding"
      ],
      "metadata": {
        "id": "mjR2so1fVkic"
      }
    },
    {
      "cell_type": "markdown",
      "source": [
        "Data yang digunakan berdasarkan data yang diperoleh dari website kaggle berupa data produksi listrik, berikut untuk link data yang digunakan: [link kaggle](https:///www.kaggle.com/datasets/shenba/time-series-datasets?resource=download). Dalam data tersebut terdapat 2 fitur yaitu DATE yang menunjukkan tanggal produksi listrik yang diamati, dan juga IPG2211A2N sebagai fitur untuk menunjukkan produksi listrik yang diamati. Dataset ini terdiri dari 397 data yang diamati sejak tahun 1985. Untuk proses pengamatan yang dilakukan yaitu dilakukan per tanggal 1 disetiap bulan pada tahun tersebut."
      ],
      "metadata": {
        "id": "An5QTT0EV3nn"
      }
    },
    {
      "cell_type": "code",
      "source": [
        "pip install pandas statsmodels matplotlib"
      ],
      "metadata": {
        "colab": {
          "base_uri": "https://localhost:8080/"
        },
        "id": "iezrU_QgVrVn",
        "outputId": "48217dbf-ca66-474f-eda2-aac706e9fcab"
      },
      "execution_count": 182,
      "outputs": [
        {
          "output_type": "stream",
          "name": "stdout",
          "text": [
            "Requirement already satisfied: pandas in /usr/local/lib/python3.10/dist-packages (2.2.2)\n",
            "Requirement already satisfied: statsmodels in /usr/local/lib/python3.10/dist-packages (0.14.4)\n",
            "Requirement already satisfied: matplotlib in /usr/local/lib/python3.10/dist-packages (3.7.1)\n",
            "Requirement already satisfied: numpy>=1.22.4 in /usr/local/lib/python3.10/dist-packages (from pandas) (1.26.4)\n",
            "Requirement already satisfied: python-dateutil>=2.8.2 in /usr/local/lib/python3.10/dist-packages (from pandas) (2.8.2)\n",
            "Requirement already satisfied: pytz>=2020.1 in /usr/local/lib/python3.10/dist-packages (from pandas) (2024.2)\n",
            "Requirement already satisfied: tzdata>=2022.7 in /usr/local/lib/python3.10/dist-packages (from pandas) (2024.2)\n",
            "Requirement already satisfied: scipy!=1.9.2,>=1.8 in /usr/local/lib/python3.10/dist-packages (from statsmodels) (1.13.1)\n",
            "Requirement already satisfied: patsy>=0.5.6 in /usr/local/lib/python3.10/dist-packages (from statsmodels) (0.5.6)\n",
            "Requirement already satisfied: packaging>=21.3 in /usr/local/lib/python3.10/dist-packages (from statsmodels) (24.1)\n",
            "Requirement already satisfied: contourpy>=1.0.1 in /usr/local/lib/python3.10/dist-packages (from matplotlib) (1.3.0)\n",
            "Requirement already satisfied: cycler>=0.10 in /usr/local/lib/python3.10/dist-packages (from matplotlib) (0.12.1)\n",
            "Requirement already satisfied: fonttools>=4.22.0 in /usr/local/lib/python3.10/dist-packages (from matplotlib) (4.54.1)\n",
            "Requirement already satisfied: kiwisolver>=1.0.1 in /usr/local/lib/python3.10/dist-packages (from matplotlib) (1.4.7)\n",
            "Requirement already satisfied: pillow>=6.2.0 in /usr/local/lib/python3.10/dist-packages (from matplotlib) (10.4.0)\n",
            "Requirement already satisfied: pyparsing>=2.3.1 in /usr/local/lib/python3.10/dist-packages (from matplotlib) (3.1.4)\n",
            "Requirement already satisfied: six in /usr/local/lib/python3.10/dist-packages (from patsy>=0.5.6->statsmodels) (1.16.0)\n"
          ]
        }
      ]
    },
    {
      "cell_type": "code",
      "source": [
        "from google.colab import drive\n",
        "drive.mount('/content/drive')"
      ],
      "metadata": {
        "colab": {
          "base_uri": "https://localhost:8080/"
        },
        "id": "cYb7_wE8kSZo",
        "outputId": "88f044d7-4e59-4ef4-e461-8cf6f1487b3b"
      },
      "execution_count": 183,
      "outputs": [
        {
          "output_type": "stream",
          "name": "stdout",
          "text": [
            "Drive already mounted at /content/drive; to attempt to forcibly remount, call drive.mount(\"/content/drive\", force_remount=True).\n"
          ]
        }
      ]
    },
    {
      "cell_type": "markdown",
      "source": [
        "## Menampilkan data"
      ],
      "metadata": {
        "id": "qPnoIsDqXXly"
      }
    },
    {
      "cell_type": "markdown",
      "source": [
        "Sebelum menampilkan data, kita perlu melakukan import library yang akan diperlukan dan digunakan selama melakukan pemrosesan data nantinya."
      ],
      "metadata": {
        "id": "OEGCnQh2XeNq"
      }
    },
    {
      "cell_type": "code",
      "source": [
        "import pandas as pd\n",
        "import numpy as np\n",
        "from sklearn.ensemble import BaggingRegressor\n",
        "from sklearn.linear_model import LinearRegression\n",
        "from sklearn.model_selection import train_test_split\n",
        "from sklearn.metrics import mean_squared_error, mean_absolute_error, r2_score\n",
        "from sklearn.preprocessing import StandardScaler #new\n",
        "from sklearn.tree import DecisionTreeRegressor # Import DecisionTreeRegressor\n",
        "from statsmodels.tsa.arima.model import ARIMA\n",
        "import matplotlib.pyplot as plt\n",
        "import warnings"
      ],
      "metadata": {
        "id": "Y6L94tKYUcIi"
      },
      "execution_count": 206,
      "outputs": []
    },
    {
      "cell_type": "markdown",
      "source": [
        "Setelah melakukan import library yang diperlukan selanjutnya, code dibawah ini digunakna untuk menampilkan data dlaam file dengan format csv."
      ],
      "metadata": {
        "id": "Ca9oQpweXzee"
      }
    },
    {
      "cell_type": "code",
      "source": [
        "df = pd.read_csv('/content/drive/MyDrive/PSD/Electric_Production.csv')\n",
        "df"
      ],
      "metadata": {
        "colab": {
          "base_uri": "https://localhost:8080/",
          "height": 423
        },
        "id": "fRhVV5w7rxzD",
        "outputId": "39c857de-674c-4ec0-8375-727a31283491"
      },
      "execution_count": 207,
      "outputs": [
        {
          "output_type": "execute_result",
          "data": {
            "text/plain": [
              "          DATE  IPG2211A2N\n",
              "0     1/1/1985     72.5052\n",
              "1     2/1/1985     70.6720\n",
              "2     3/1/1985     62.4502\n",
              "3     4/1/1985     57.4714\n",
              "4     5/1/1985     55.3151\n",
              "..         ...         ...\n",
              "392   9/1/2017     98.6154\n",
              "393  10/1/2017     93.6137\n",
              "394  11/1/2017     97.3359\n",
              "395  12/1/2017    114.7212\n",
              "396   1/1/2018    129.4048\n",
              "\n",
              "[397 rows x 2 columns]"
            ],
            "text/html": [
              "\n",
              "  <div id=\"df-68376c1d-6d54-4335-9d3e-b92690fbfac9\" class=\"colab-df-container\">\n",
              "    <div>\n",
              "<style scoped>\n",
              "    .dataframe tbody tr th:only-of-type {\n",
              "        vertical-align: middle;\n",
              "    }\n",
              "\n",
              "    .dataframe tbody tr th {\n",
              "        vertical-align: top;\n",
              "    }\n",
              "\n",
              "    .dataframe thead th {\n",
              "        text-align: right;\n",
              "    }\n",
              "</style>\n",
              "<table border=\"1\" class=\"dataframe\">\n",
              "  <thead>\n",
              "    <tr style=\"text-align: right;\">\n",
              "      <th></th>\n",
              "      <th>DATE</th>\n",
              "      <th>IPG2211A2N</th>\n",
              "    </tr>\n",
              "  </thead>\n",
              "  <tbody>\n",
              "    <tr>\n",
              "      <th>0</th>\n",
              "      <td>1/1/1985</td>\n",
              "      <td>72.5052</td>\n",
              "    </tr>\n",
              "    <tr>\n",
              "      <th>1</th>\n",
              "      <td>2/1/1985</td>\n",
              "      <td>70.6720</td>\n",
              "    </tr>\n",
              "    <tr>\n",
              "      <th>2</th>\n",
              "      <td>3/1/1985</td>\n",
              "      <td>62.4502</td>\n",
              "    </tr>\n",
              "    <tr>\n",
              "      <th>3</th>\n",
              "      <td>4/1/1985</td>\n",
              "      <td>57.4714</td>\n",
              "    </tr>\n",
              "    <tr>\n",
              "      <th>4</th>\n",
              "      <td>5/1/1985</td>\n",
              "      <td>55.3151</td>\n",
              "    </tr>\n",
              "    <tr>\n",
              "      <th>...</th>\n",
              "      <td>...</td>\n",
              "      <td>...</td>\n",
              "    </tr>\n",
              "    <tr>\n",
              "      <th>392</th>\n",
              "      <td>9/1/2017</td>\n",
              "      <td>98.6154</td>\n",
              "    </tr>\n",
              "    <tr>\n",
              "      <th>393</th>\n",
              "      <td>10/1/2017</td>\n",
              "      <td>93.6137</td>\n",
              "    </tr>\n",
              "    <tr>\n",
              "      <th>394</th>\n",
              "      <td>11/1/2017</td>\n",
              "      <td>97.3359</td>\n",
              "    </tr>\n",
              "    <tr>\n",
              "      <th>395</th>\n",
              "      <td>12/1/2017</td>\n",
              "      <td>114.7212</td>\n",
              "    </tr>\n",
              "    <tr>\n",
              "      <th>396</th>\n",
              "      <td>1/1/2018</td>\n",
              "      <td>129.4048</td>\n",
              "    </tr>\n",
              "  </tbody>\n",
              "</table>\n",
              "<p>397 rows × 2 columns</p>\n",
              "</div>\n",
              "    <div class=\"colab-df-buttons\">\n",
              "\n",
              "  <div class=\"colab-df-container\">\n",
              "    <button class=\"colab-df-convert\" onclick=\"convertToInteractive('df-68376c1d-6d54-4335-9d3e-b92690fbfac9')\"\n",
              "            title=\"Convert this dataframe to an interactive table.\"\n",
              "            style=\"display:none;\">\n",
              "\n",
              "  <svg xmlns=\"http://www.w3.org/2000/svg\" height=\"24px\" viewBox=\"0 -960 960 960\">\n",
              "    <path d=\"M120-120v-720h720v720H120Zm60-500h600v-160H180v160Zm220 220h160v-160H400v160Zm0 220h160v-160H400v160ZM180-400h160v-160H180v160Zm440 0h160v-160H620v160ZM180-180h160v-160H180v160Zm440 0h160v-160H620v160Z\"/>\n",
              "  </svg>\n",
              "    </button>\n",
              "\n",
              "  <style>\n",
              "    .colab-df-container {\n",
              "      display:flex;\n",
              "      gap: 12px;\n",
              "    }\n",
              "\n",
              "    .colab-df-convert {\n",
              "      background-color: #E8F0FE;\n",
              "      border: none;\n",
              "      border-radius: 50%;\n",
              "      cursor: pointer;\n",
              "      display: none;\n",
              "      fill: #1967D2;\n",
              "      height: 32px;\n",
              "      padding: 0 0 0 0;\n",
              "      width: 32px;\n",
              "    }\n",
              "\n",
              "    .colab-df-convert:hover {\n",
              "      background-color: #E2EBFA;\n",
              "      box-shadow: 0px 1px 2px rgba(60, 64, 67, 0.3), 0px 1px 3px 1px rgba(60, 64, 67, 0.15);\n",
              "      fill: #174EA6;\n",
              "    }\n",
              "\n",
              "    .colab-df-buttons div {\n",
              "      margin-bottom: 4px;\n",
              "    }\n",
              "\n",
              "    [theme=dark] .colab-df-convert {\n",
              "      background-color: #3B4455;\n",
              "      fill: #D2E3FC;\n",
              "    }\n",
              "\n",
              "    [theme=dark] .colab-df-convert:hover {\n",
              "      background-color: #434B5C;\n",
              "      box-shadow: 0px 1px 3px 1px rgba(0, 0, 0, 0.15);\n",
              "      filter: drop-shadow(0px 1px 2px rgba(0, 0, 0, 0.3));\n",
              "      fill: #FFFFFF;\n",
              "    }\n",
              "  </style>\n",
              "\n",
              "    <script>\n",
              "      const buttonEl =\n",
              "        document.querySelector('#df-68376c1d-6d54-4335-9d3e-b92690fbfac9 button.colab-df-convert');\n",
              "      buttonEl.style.display =\n",
              "        google.colab.kernel.accessAllowed ? 'block' : 'none';\n",
              "\n",
              "      async function convertToInteractive(key) {\n",
              "        const element = document.querySelector('#df-68376c1d-6d54-4335-9d3e-b92690fbfac9');\n",
              "        const dataTable =\n",
              "          await google.colab.kernel.invokeFunction('convertToInteractive',\n",
              "                                                    [key], {});\n",
              "        if (!dataTable) return;\n",
              "\n",
              "        const docLinkHtml = 'Like what you see? Visit the ' +\n",
              "          '<a target=\"_blank\" href=https://colab.research.google.com/notebooks/data_table.ipynb>data table notebook</a>'\n",
              "          + ' to learn more about interactive tables.';\n",
              "        element.innerHTML = '';\n",
              "        dataTable['output_type'] = 'display_data';\n",
              "        await google.colab.output.renderOutput(dataTable, element);\n",
              "        const docLink = document.createElement('div');\n",
              "        docLink.innerHTML = docLinkHtml;\n",
              "        element.appendChild(docLink);\n",
              "      }\n",
              "    </script>\n",
              "  </div>\n",
              "\n",
              "\n",
              "<div id=\"df-f22b9244-d2a3-49a2-b03c-58647a1f666e\">\n",
              "  <button class=\"colab-df-quickchart\" onclick=\"quickchart('df-f22b9244-d2a3-49a2-b03c-58647a1f666e')\"\n",
              "            title=\"Suggest charts\"\n",
              "            style=\"display:none;\">\n",
              "\n",
              "<svg xmlns=\"http://www.w3.org/2000/svg\" height=\"24px\"viewBox=\"0 0 24 24\"\n",
              "     width=\"24px\">\n",
              "    <g>\n",
              "        <path d=\"M19 3H5c-1.1 0-2 .9-2 2v14c0 1.1.9 2 2 2h14c1.1 0 2-.9 2-2V5c0-1.1-.9-2-2-2zM9 17H7v-7h2v7zm4 0h-2V7h2v10zm4 0h-2v-4h2v4z\"/>\n",
              "    </g>\n",
              "</svg>\n",
              "  </button>\n",
              "\n",
              "<style>\n",
              "  .colab-df-quickchart {\n",
              "      --bg-color: #E8F0FE;\n",
              "      --fill-color: #1967D2;\n",
              "      --hover-bg-color: #E2EBFA;\n",
              "      --hover-fill-color: #174EA6;\n",
              "      --disabled-fill-color: #AAA;\n",
              "      --disabled-bg-color: #DDD;\n",
              "  }\n",
              "\n",
              "  [theme=dark] .colab-df-quickchart {\n",
              "      --bg-color: #3B4455;\n",
              "      --fill-color: #D2E3FC;\n",
              "      --hover-bg-color: #434B5C;\n",
              "      --hover-fill-color: #FFFFFF;\n",
              "      --disabled-bg-color: #3B4455;\n",
              "      --disabled-fill-color: #666;\n",
              "  }\n",
              "\n",
              "  .colab-df-quickchart {\n",
              "    background-color: var(--bg-color);\n",
              "    border: none;\n",
              "    border-radius: 50%;\n",
              "    cursor: pointer;\n",
              "    display: none;\n",
              "    fill: var(--fill-color);\n",
              "    height: 32px;\n",
              "    padding: 0;\n",
              "    width: 32px;\n",
              "  }\n",
              "\n",
              "  .colab-df-quickchart:hover {\n",
              "    background-color: var(--hover-bg-color);\n",
              "    box-shadow: 0 1px 2px rgba(60, 64, 67, 0.3), 0 1px 3px 1px rgba(60, 64, 67, 0.15);\n",
              "    fill: var(--button-hover-fill-color);\n",
              "  }\n",
              "\n",
              "  .colab-df-quickchart-complete:disabled,\n",
              "  .colab-df-quickchart-complete:disabled:hover {\n",
              "    background-color: var(--disabled-bg-color);\n",
              "    fill: var(--disabled-fill-color);\n",
              "    box-shadow: none;\n",
              "  }\n",
              "\n",
              "  .colab-df-spinner {\n",
              "    border: 2px solid var(--fill-color);\n",
              "    border-color: transparent;\n",
              "    border-bottom-color: var(--fill-color);\n",
              "    animation:\n",
              "      spin 1s steps(1) infinite;\n",
              "  }\n",
              "\n",
              "  @keyframes spin {\n",
              "    0% {\n",
              "      border-color: transparent;\n",
              "      border-bottom-color: var(--fill-color);\n",
              "      border-left-color: var(--fill-color);\n",
              "    }\n",
              "    20% {\n",
              "      border-color: transparent;\n",
              "      border-left-color: var(--fill-color);\n",
              "      border-top-color: var(--fill-color);\n",
              "    }\n",
              "    30% {\n",
              "      border-color: transparent;\n",
              "      border-left-color: var(--fill-color);\n",
              "      border-top-color: var(--fill-color);\n",
              "      border-right-color: var(--fill-color);\n",
              "    }\n",
              "    40% {\n",
              "      border-color: transparent;\n",
              "      border-right-color: var(--fill-color);\n",
              "      border-top-color: var(--fill-color);\n",
              "    }\n",
              "    60% {\n",
              "      border-color: transparent;\n",
              "      border-right-color: var(--fill-color);\n",
              "    }\n",
              "    80% {\n",
              "      border-color: transparent;\n",
              "      border-right-color: var(--fill-color);\n",
              "      border-bottom-color: var(--fill-color);\n",
              "    }\n",
              "    90% {\n",
              "      border-color: transparent;\n",
              "      border-bottom-color: var(--fill-color);\n",
              "    }\n",
              "  }\n",
              "</style>\n",
              "\n",
              "  <script>\n",
              "    async function quickchart(key) {\n",
              "      const quickchartButtonEl =\n",
              "        document.querySelector('#' + key + ' button');\n",
              "      quickchartButtonEl.disabled = true;  // To prevent multiple clicks.\n",
              "      quickchartButtonEl.classList.add('colab-df-spinner');\n",
              "      try {\n",
              "        const charts = await google.colab.kernel.invokeFunction(\n",
              "            'suggestCharts', [key], {});\n",
              "      } catch (error) {\n",
              "        console.error('Error during call to suggestCharts:', error);\n",
              "      }\n",
              "      quickchartButtonEl.classList.remove('colab-df-spinner');\n",
              "      quickchartButtonEl.classList.add('colab-df-quickchart-complete');\n",
              "    }\n",
              "    (() => {\n",
              "      let quickchartButtonEl =\n",
              "        document.querySelector('#df-f22b9244-d2a3-49a2-b03c-58647a1f666e button');\n",
              "      quickchartButtonEl.style.display =\n",
              "        google.colab.kernel.accessAllowed ? 'block' : 'none';\n",
              "    })();\n",
              "  </script>\n",
              "</div>\n",
              "\n",
              "  <div id=\"id_8efc9bff-858c-4678-a79c-8ab44d0f5d27\">\n",
              "    <style>\n",
              "      .colab-df-generate {\n",
              "        background-color: #E8F0FE;\n",
              "        border: none;\n",
              "        border-radius: 50%;\n",
              "        cursor: pointer;\n",
              "        display: none;\n",
              "        fill: #1967D2;\n",
              "        height: 32px;\n",
              "        padding: 0 0 0 0;\n",
              "        width: 32px;\n",
              "      }\n",
              "\n",
              "      .colab-df-generate:hover {\n",
              "        background-color: #E2EBFA;\n",
              "        box-shadow: 0px 1px 2px rgba(60, 64, 67, 0.3), 0px 1px 3px 1px rgba(60, 64, 67, 0.15);\n",
              "        fill: #174EA6;\n",
              "      }\n",
              "\n",
              "      [theme=dark] .colab-df-generate {\n",
              "        background-color: #3B4455;\n",
              "        fill: #D2E3FC;\n",
              "      }\n",
              "\n",
              "      [theme=dark] .colab-df-generate:hover {\n",
              "        background-color: #434B5C;\n",
              "        box-shadow: 0px 1px 3px 1px rgba(0, 0, 0, 0.15);\n",
              "        filter: drop-shadow(0px 1px 2px rgba(0, 0, 0, 0.3));\n",
              "        fill: #FFFFFF;\n",
              "      }\n",
              "    </style>\n",
              "    <button class=\"colab-df-generate\" onclick=\"generateWithVariable('df')\"\n",
              "            title=\"Generate code using this dataframe.\"\n",
              "            style=\"display:none;\">\n",
              "\n",
              "  <svg xmlns=\"http://www.w3.org/2000/svg\" height=\"24px\"viewBox=\"0 0 24 24\"\n",
              "       width=\"24px\">\n",
              "    <path d=\"M7,19H8.4L18.45,9,17,7.55,7,17.6ZM5,21V16.75L18.45,3.32a2,2,0,0,1,2.83,0l1.4,1.43a1.91,1.91,0,0,1,.58,1.4,1.91,1.91,0,0,1-.58,1.4L9.25,21ZM18.45,9,17,7.55Zm-12,3A5.31,5.31,0,0,0,4.9,8.1,5.31,5.31,0,0,0,1,6.5,5.31,5.31,0,0,0,4.9,4.9,5.31,5.31,0,0,0,6.5,1,5.31,5.31,0,0,0,8.1,4.9,5.31,5.31,0,0,0,12,6.5,5.46,5.46,0,0,0,6.5,12Z\"/>\n",
              "  </svg>\n",
              "    </button>\n",
              "    <script>\n",
              "      (() => {\n",
              "      const buttonEl =\n",
              "        document.querySelector('#id_8efc9bff-858c-4678-a79c-8ab44d0f5d27 button.colab-df-generate');\n",
              "      buttonEl.style.display =\n",
              "        google.colab.kernel.accessAllowed ? 'block' : 'none';\n",
              "\n",
              "      buttonEl.onclick = () => {\n",
              "        google.colab.notebook.generateWithVariable('df');\n",
              "      }\n",
              "      })();\n",
              "    </script>\n",
              "  </div>\n",
              "\n",
              "    </div>\n",
              "  </div>\n"
            ],
            "application/vnd.google.colaboratory.intrinsic+json": {
              "type": "dataframe",
              "variable_name": "df",
              "summary": "{\n  \"name\": \"df\",\n  \"rows\": 397,\n  \"fields\": [\n    {\n      \"column\": \"DATE\",\n      \"properties\": {\n        \"dtype\": \"object\",\n        \"num_unique_values\": 397,\n        \"samples\": [\n          \"7/1/1994\",\n          \"3/1/2008\",\n          \"10/1/2004\"\n        ],\n        \"semantic_type\": \"\",\n        \"description\": \"\"\n      }\n    },\n    {\n      \"column\": \"IPG2211A2N\",\n      \"properties\": {\n        \"dtype\": \"number\",\n        \"std\": 15.387833664730909,\n        \"min\": 55.3151,\n        \"max\": 129.4048,\n        \"num_unique_values\": 397,\n        \"samples\": [\n          83.277,\n          100.4386,\n          87.5262\n        ],\n        \"semantic_type\": \"\",\n        \"description\": \"\"\n      }\n    }\n  ]\n}"
            }
          },
          "metadata": {},
          "execution_count": 207
        }
      ]
    },
    {
      "cell_type": "markdown",
      "source": [
        "# Data PreProcessing"
      ],
      "metadata": {
        "id": "tlFLorcEVpuK"
      }
    },
    {
      "cell_type": "markdown",
      "source": [
        "## Deskripsi Dataset"
      ],
      "metadata": {
        "id": "XSNf3O7XY4YY"
      }
    },
    {
      "cell_type": "markdown",
      "source": [
        "*   **Count** digunakan untuk menunjukkan jumlah data yang ada di dalam dataset\n",
        "*   **Mean** digunakan untuk menunjukkan nilai rata-rata dari data yang ada\n",
        "*  **Min dan Max** digunakan untuk menunjukkan nilai minimal dan nilai maksimal dari data-data tersebut.\n",
        "*   **25%**: Kuartil pertama (Q1) digunakan untuk menunjukkan 25% dari nilai berada di bawah angka yang tertera.\n",
        "*   **50% (median)**: Median (nilai tengah) digunakan untuk menunjukkan bahwa 50% dari data memiliki nilai lebih kecil dari nilai yang tertera dan 50% lainnya lebih besar.\n",
        "*   **75%: Kuartil ketiga (Q3)** digunakan untuk menunjukkan 75% dari nilai berada di bawah angka yang tertera.\n",
        "*   **Std (standar deviasi)** digunakan untuk menunjukkan seberapa tersebar nilai-nilai dalam data dari rata-ratanya. Semakin tinggi standar deviasi, semakin bervariasi atau menyebar data.\n"
      ],
      "metadata": {
        "id": "X40vcQ6TZyOG"
      }
    },
    {
      "cell_type": "code",
      "source": [
        "description = df.describe()\n",
        "print(description)"
      ],
      "metadata": {
        "colab": {
          "base_uri": "https://localhost:8080/"
        },
        "id": "xAch5QQaY759",
        "outputId": "235de1cb-74cd-4ad6-d343-5947c2f34446"
      },
      "execution_count": 208,
      "outputs": [
        {
          "output_type": "stream",
          "name": "stdout",
          "text": [
            "       IPG2211A2N\n",
            "count  397.000000\n",
            "mean    88.847218\n",
            "std     15.387834\n",
            "min     55.315100\n",
            "25%     77.105200\n",
            "50%     89.779500\n",
            "75%    100.524400\n",
            "max    129.404800\n"
          ]
        }
      ]
    },
    {
      "cell_type": "markdown",
      "source": [
        "## Missing Value"
      ],
      "metadata": {
        "id": "p89vPDe6YfTO"
      }
    },
    {
      "cell_type": "markdown",
      "source": [
        "Code dibawah ini digunakan untuk mengecek apakah didalam dataset yang digunakan terdapat missing value atau tidak. Setelah di cek menggunakan code dibawah, pada dataset ini tidak memiliki missing value didalamnya."
      ],
      "metadata": {
        "id": "GPTqcdHCYkyu"
      }
    },
    {
      "cell_type": "code",
      "source": [
        "missing_values = df.isnull().sum()\n",
        "print(missing_values)"
      ],
      "metadata": {
        "colab": {
          "base_uri": "https://localhost:8080/"
        },
        "id": "ekIPKRU8Ydpi",
        "outputId": "55ac5a48-7b63-431a-a101-b96cfe9b7d8f"
      },
      "execution_count": 209,
      "outputs": [
        {
          "output_type": "stream",
          "name": "stdout",
          "text": [
            "DATE          0\n",
            "IPG2211A2N    0\n",
            "dtype: int64\n"
          ]
        }
      ]
    },
    {
      "cell_type": "markdown",
      "source": [
        "## Mengkonversi format DATE"
      ],
      "metadata": {
        "id": "yEs7v-oBg1Sy"
      }
    },
    {
      "cell_type": "markdown",
      "source": [
        "Code dibawah digunakan untuk mengkonversi format fitur DATE menjadi datetime"
      ],
      "metadata": {
        "id": "tiLl20wVg9Pg"
      }
    },
    {
      "cell_type": "code",
      "source": [
        "# Mengonversi 'transaction_date' ke format datetime\n",
        "df['DATE'] = pd.to_datetime(df['DATE'], format='%m/%d/%Y')\n",
        "df"
      ],
      "metadata": {
        "colab": {
          "base_uri": "https://localhost:8080/",
          "height": 423
        },
        "id": "qpNS5ouujwM-",
        "outputId": "4a1dc093-a0cd-42e3-f550-776c6eacbc11"
      },
      "execution_count": 210,
      "outputs": [
        {
          "output_type": "execute_result",
          "data": {
            "text/plain": [
              "          DATE  IPG2211A2N\n",
              "0   1985-01-01     72.5052\n",
              "1   1985-02-01     70.6720\n",
              "2   1985-03-01     62.4502\n",
              "3   1985-04-01     57.4714\n",
              "4   1985-05-01     55.3151\n",
              "..         ...         ...\n",
              "392 2017-09-01     98.6154\n",
              "393 2017-10-01     93.6137\n",
              "394 2017-11-01     97.3359\n",
              "395 2017-12-01    114.7212\n",
              "396 2018-01-01    129.4048\n",
              "\n",
              "[397 rows x 2 columns]"
            ],
            "text/html": [
              "\n",
              "  <div id=\"df-586bfcc5-d31e-4407-88f4-f62b39714000\" class=\"colab-df-container\">\n",
              "    <div>\n",
              "<style scoped>\n",
              "    .dataframe tbody tr th:only-of-type {\n",
              "        vertical-align: middle;\n",
              "    }\n",
              "\n",
              "    .dataframe tbody tr th {\n",
              "        vertical-align: top;\n",
              "    }\n",
              "\n",
              "    .dataframe thead th {\n",
              "        text-align: right;\n",
              "    }\n",
              "</style>\n",
              "<table border=\"1\" class=\"dataframe\">\n",
              "  <thead>\n",
              "    <tr style=\"text-align: right;\">\n",
              "      <th></th>\n",
              "      <th>DATE</th>\n",
              "      <th>IPG2211A2N</th>\n",
              "    </tr>\n",
              "  </thead>\n",
              "  <tbody>\n",
              "    <tr>\n",
              "      <th>0</th>\n",
              "      <td>1985-01-01</td>\n",
              "      <td>72.5052</td>\n",
              "    </tr>\n",
              "    <tr>\n",
              "      <th>1</th>\n",
              "      <td>1985-02-01</td>\n",
              "      <td>70.6720</td>\n",
              "    </tr>\n",
              "    <tr>\n",
              "      <th>2</th>\n",
              "      <td>1985-03-01</td>\n",
              "      <td>62.4502</td>\n",
              "    </tr>\n",
              "    <tr>\n",
              "      <th>3</th>\n",
              "      <td>1985-04-01</td>\n",
              "      <td>57.4714</td>\n",
              "    </tr>\n",
              "    <tr>\n",
              "      <th>4</th>\n",
              "      <td>1985-05-01</td>\n",
              "      <td>55.3151</td>\n",
              "    </tr>\n",
              "    <tr>\n",
              "      <th>...</th>\n",
              "      <td>...</td>\n",
              "      <td>...</td>\n",
              "    </tr>\n",
              "    <tr>\n",
              "      <th>392</th>\n",
              "      <td>2017-09-01</td>\n",
              "      <td>98.6154</td>\n",
              "    </tr>\n",
              "    <tr>\n",
              "      <th>393</th>\n",
              "      <td>2017-10-01</td>\n",
              "      <td>93.6137</td>\n",
              "    </tr>\n",
              "    <tr>\n",
              "      <th>394</th>\n",
              "      <td>2017-11-01</td>\n",
              "      <td>97.3359</td>\n",
              "    </tr>\n",
              "    <tr>\n",
              "      <th>395</th>\n",
              "      <td>2017-12-01</td>\n",
              "      <td>114.7212</td>\n",
              "    </tr>\n",
              "    <tr>\n",
              "      <th>396</th>\n",
              "      <td>2018-01-01</td>\n",
              "      <td>129.4048</td>\n",
              "    </tr>\n",
              "  </tbody>\n",
              "</table>\n",
              "<p>397 rows × 2 columns</p>\n",
              "</div>\n",
              "    <div class=\"colab-df-buttons\">\n",
              "\n",
              "  <div class=\"colab-df-container\">\n",
              "    <button class=\"colab-df-convert\" onclick=\"convertToInteractive('df-586bfcc5-d31e-4407-88f4-f62b39714000')\"\n",
              "            title=\"Convert this dataframe to an interactive table.\"\n",
              "            style=\"display:none;\">\n",
              "\n",
              "  <svg xmlns=\"http://www.w3.org/2000/svg\" height=\"24px\" viewBox=\"0 -960 960 960\">\n",
              "    <path d=\"M120-120v-720h720v720H120Zm60-500h600v-160H180v160Zm220 220h160v-160H400v160Zm0 220h160v-160H400v160ZM180-400h160v-160H180v160Zm440 0h160v-160H620v160ZM180-180h160v-160H180v160Zm440 0h160v-160H620v160Z\"/>\n",
              "  </svg>\n",
              "    </button>\n",
              "\n",
              "  <style>\n",
              "    .colab-df-container {\n",
              "      display:flex;\n",
              "      gap: 12px;\n",
              "    }\n",
              "\n",
              "    .colab-df-convert {\n",
              "      background-color: #E8F0FE;\n",
              "      border: none;\n",
              "      border-radius: 50%;\n",
              "      cursor: pointer;\n",
              "      display: none;\n",
              "      fill: #1967D2;\n",
              "      height: 32px;\n",
              "      padding: 0 0 0 0;\n",
              "      width: 32px;\n",
              "    }\n",
              "\n",
              "    .colab-df-convert:hover {\n",
              "      background-color: #E2EBFA;\n",
              "      box-shadow: 0px 1px 2px rgba(60, 64, 67, 0.3), 0px 1px 3px 1px rgba(60, 64, 67, 0.15);\n",
              "      fill: #174EA6;\n",
              "    }\n",
              "\n",
              "    .colab-df-buttons div {\n",
              "      margin-bottom: 4px;\n",
              "    }\n",
              "\n",
              "    [theme=dark] .colab-df-convert {\n",
              "      background-color: #3B4455;\n",
              "      fill: #D2E3FC;\n",
              "    }\n",
              "\n",
              "    [theme=dark] .colab-df-convert:hover {\n",
              "      background-color: #434B5C;\n",
              "      box-shadow: 0px 1px 3px 1px rgba(0, 0, 0, 0.15);\n",
              "      filter: drop-shadow(0px 1px 2px rgba(0, 0, 0, 0.3));\n",
              "      fill: #FFFFFF;\n",
              "    }\n",
              "  </style>\n",
              "\n",
              "    <script>\n",
              "      const buttonEl =\n",
              "        document.querySelector('#df-586bfcc5-d31e-4407-88f4-f62b39714000 button.colab-df-convert');\n",
              "      buttonEl.style.display =\n",
              "        google.colab.kernel.accessAllowed ? 'block' : 'none';\n",
              "\n",
              "      async function convertToInteractive(key) {\n",
              "        const element = document.querySelector('#df-586bfcc5-d31e-4407-88f4-f62b39714000');\n",
              "        const dataTable =\n",
              "          await google.colab.kernel.invokeFunction('convertToInteractive',\n",
              "                                                    [key], {});\n",
              "        if (!dataTable) return;\n",
              "\n",
              "        const docLinkHtml = 'Like what you see? Visit the ' +\n",
              "          '<a target=\"_blank\" href=https://colab.research.google.com/notebooks/data_table.ipynb>data table notebook</a>'\n",
              "          + ' to learn more about interactive tables.';\n",
              "        element.innerHTML = '';\n",
              "        dataTable['output_type'] = 'display_data';\n",
              "        await google.colab.output.renderOutput(dataTable, element);\n",
              "        const docLink = document.createElement('div');\n",
              "        docLink.innerHTML = docLinkHtml;\n",
              "        element.appendChild(docLink);\n",
              "      }\n",
              "    </script>\n",
              "  </div>\n",
              "\n",
              "\n",
              "<div id=\"df-b9637a45-11e4-4cb4-8621-3e547893620b\">\n",
              "  <button class=\"colab-df-quickchart\" onclick=\"quickchart('df-b9637a45-11e4-4cb4-8621-3e547893620b')\"\n",
              "            title=\"Suggest charts\"\n",
              "            style=\"display:none;\">\n",
              "\n",
              "<svg xmlns=\"http://www.w3.org/2000/svg\" height=\"24px\"viewBox=\"0 0 24 24\"\n",
              "     width=\"24px\">\n",
              "    <g>\n",
              "        <path d=\"M19 3H5c-1.1 0-2 .9-2 2v14c0 1.1.9 2 2 2h14c1.1 0 2-.9 2-2V5c0-1.1-.9-2-2-2zM9 17H7v-7h2v7zm4 0h-2V7h2v10zm4 0h-2v-4h2v4z\"/>\n",
              "    </g>\n",
              "</svg>\n",
              "  </button>\n",
              "\n",
              "<style>\n",
              "  .colab-df-quickchart {\n",
              "      --bg-color: #E8F0FE;\n",
              "      --fill-color: #1967D2;\n",
              "      --hover-bg-color: #E2EBFA;\n",
              "      --hover-fill-color: #174EA6;\n",
              "      --disabled-fill-color: #AAA;\n",
              "      --disabled-bg-color: #DDD;\n",
              "  }\n",
              "\n",
              "  [theme=dark] .colab-df-quickchart {\n",
              "      --bg-color: #3B4455;\n",
              "      --fill-color: #D2E3FC;\n",
              "      --hover-bg-color: #434B5C;\n",
              "      --hover-fill-color: #FFFFFF;\n",
              "      --disabled-bg-color: #3B4455;\n",
              "      --disabled-fill-color: #666;\n",
              "  }\n",
              "\n",
              "  .colab-df-quickchart {\n",
              "    background-color: var(--bg-color);\n",
              "    border: none;\n",
              "    border-radius: 50%;\n",
              "    cursor: pointer;\n",
              "    display: none;\n",
              "    fill: var(--fill-color);\n",
              "    height: 32px;\n",
              "    padding: 0;\n",
              "    width: 32px;\n",
              "  }\n",
              "\n",
              "  .colab-df-quickchart:hover {\n",
              "    background-color: var(--hover-bg-color);\n",
              "    box-shadow: 0 1px 2px rgba(60, 64, 67, 0.3), 0 1px 3px 1px rgba(60, 64, 67, 0.15);\n",
              "    fill: var(--button-hover-fill-color);\n",
              "  }\n",
              "\n",
              "  .colab-df-quickchart-complete:disabled,\n",
              "  .colab-df-quickchart-complete:disabled:hover {\n",
              "    background-color: var(--disabled-bg-color);\n",
              "    fill: var(--disabled-fill-color);\n",
              "    box-shadow: none;\n",
              "  }\n",
              "\n",
              "  .colab-df-spinner {\n",
              "    border: 2px solid var(--fill-color);\n",
              "    border-color: transparent;\n",
              "    border-bottom-color: var(--fill-color);\n",
              "    animation:\n",
              "      spin 1s steps(1) infinite;\n",
              "  }\n",
              "\n",
              "  @keyframes spin {\n",
              "    0% {\n",
              "      border-color: transparent;\n",
              "      border-bottom-color: var(--fill-color);\n",
              "      border-left-color: var(--fill-color);\n",
              "    }\n",
              "    20% {\n",
              "      border-color: transparent;\n",
              "      border-left-color: var(--fill-color);\n",
              "      border-top-color: var(--fill-color);\n",
              "    }\n",
              "    30% {\n",
              "      border-color: transparent;\n",
              "      border-left-color: var(--fill-color);\n",
              "      border-top-color: var(--fill-color);\n",
              "      border-right-color: var(--fill-color);\n",
              "    }\n",
              "    40% {\n",
              "      border-color: transparent;\n",
              "      border-right-color: var(--fill-color);\n",
              "      border-top-color: var(--fill-color);\n",
              "    }\n",
              "    60% {\n",
              "      border-color: transparent;\n",
              "      border-right-color: var(--fill-color);\n",
              "    }\n",
              "    80% {\n",
              "      border-color: transparent;\n",
              "      border-right-color: var(--fill-color);\n",
              "      border-bottom-color: var(--fill-color);\n",
              "    }\n",
              "    90% {\n",
              "      border-color: transparent;\n",
              "      border-bottom-color: var(--fill-color);\n",
              "    }\n",
              "  }\n",
              "</style>\n",
              "\n",
              "  <script>\n",
              "    async function quickchart(key) {\n",
              "      const quickchartButtonEl =\n",
              "        document.querySelector('#' + key + ' button');\n",
              "      quickchartButtonEl.disabled = true;  // To prevent multiple clicks.\n",
              "      quickchartButtonEl.classList.add('colab-df-spinner');\n",
              "      try {\n",
              "        const charts = await google.colab.kernel.invokeFunction(\n",
              "            'suggestCharts', [key], {});\n",
              "      } catch (error) {\n",
              "        console.error('Error during call to suggestCharts:', error);\n",
              "      }\n",
              "      quickchartButtonEl.classList.remove('colab-df-spinner');\n",
              "      quickchartButtonEl.classList.add('colab-df-quickchart-complete');\n",
              "    }\n",
              "    (() => {\n",
              "      let quickchartButtonEl =\n",
              "        document.querySelector('#df-b9637a45-11e4-4cb4-8621-3e547893620b button');\n",
              "      quickchartButtonEl.style.display =\n",
              "        google.colab.kernel.accessAllowed ? 'block' : 'none';\n",
              "    })();\n",
              "  </script>\n",
              "</div>\n",
              "\n",
              "  <div id=\"id_afbd6254-6f87-410c-aff4-0f9b0c585d62\">\n",
              "    <style>\n",
              "      .colab-df-generate {\n",
              "        background-color: #E8F0FE;\n",
              "        border: none;\n",
              "        border-radius: 50%;\n",
              "        cursor: pointer;\n",
              "        display: none;\n",
              "        fill: #1967D2;\n",
              "        height: 32px;\n",
              "        padding: 0 0 0 0;\n",
              "        width: 32px;\n",
              "      }\n",
              "\n",
              "      .colab-df-generate:hover {\n",
              "        background-color: #E2EBFA;\n",
              "        box-shadow: 0px 1px 2px rgba(60, 64, 67, 0.3), 0px 1px 3px 1px rgba(60, 64, 67, 0.15);\n",
              "        fill: #174EA6;\n",
              "      }\n",
              "\n",
              "      [theme=dark] .colab-df-generate {\n",
              "        background-color: #3B4455;\n",
              "        fill: #D2E3FC;\n",
              "      }\n",
              "\n",
              "      [theme=dark] .colab-df-generate:hover {\n",
              "        background-color: #434B5C;\n",
              "        box-shadow: 0px 1px 3px 1px rgba(0, 0, 0, 0.15);\n",
              "        filter: drop-shadow(0px 1px 2px rgba(0, 0, 0, 0.3));\n",
              "        fill: #FFFFFF;\n",
              "      }\n",
              "    </style>\n",
              "    <button class=\"colab-df-generate\" onclick=\"generateWithVariable('df')\"\n",
              "            title=\"Generate code using this dataframe.\"\n",
              "            style=\"display:none;\">\n",
              "\n",
              "  <svg xmlns=\"http://www.w3.org/2000/svg\" height=\"24px\"viewBox=\"0 0 24 24\"\n",
              "       width=\"24px\">\n",
              "    <path d=\"M7,19H8.4L18.45,9,17,7.55,7,17.6ZM5,21V16.75L18.45,3.32a2,2,0,0,1,2.83,0l1.4,1.43a1.91,1.91,0,0,1,.58,1.4,1.91,1.91,0,0,1-.58,1.4L9.25,21ZM18.45,9,17,7.55Zm-12,3A5.31,5.31,0,0,0,4.9,8.1,5.31,5.31,0,0,0,1,6.5,5.31,5.31,0,0,0,4.9,4.9,5.31,5.31,0,0,0,6.5,1,5.31,5.31,0,0,0,8.1,4.9,5.31,5.31,0,0,0,12,6.5,5.46,5.46,0,0,0,6.5,12Z\"/>\n",
              "  </svg>\n",
              "    </button>\n",
              "    <script>\n",
              "      (() => {\n",
              "      const buttonEl =\n",
              "        document.querySelector('#id_afbd6254-6f87-410c-aff4-0f9b0c585d62 button.colab-df-generate');\n",
              "      buttonEl.style.display =\n",
              "        google.colab.kernel.accessAllowed ? 'block' : 'none';\n",
              "\n",
              "      buttonEl.onclick = () => {\n",
              "        google.colab.notebook.generateWithVariable('df');\n",
              "      }\n",
              "      })();\n",
              "    </script>\n",
              "  </div>\n",
              "\n",
              "    </div>\n",
              "  </div>\n"
            ],
            "application/vnd.google.colaboratory.intrinsic+json": {
              "type": "dataframe",
              "variable_name": "df",
              "summary": "{\n  \"name\": \"df\",\n  \"rows\": 397,\n  \"fields\": [\n    {\n      \"column\": \"DATE\",\n      \"properties\": {\n        \"dtype\": \"date\",\n        \"min\": \"1985-01-01 00:00:00\",\n        \"max\": \"2018-01-01 00:00:00\",\n        \"num_unique_values\": 397,\n        \"samples\": [\n          \"1994-07-01 00:00:00\",\n          \"2008-03-01 00:00:00\",\n          \"2004-10-01 00:00:00\"\n        ],\n        \"semantic_type\": \"\",\n        \"description\": \"\"\n      }\n    },\n    {\n      \"column\": \"IPG2211A2N\",\n      \"properties\": {\n        \"dtype\": \"number\",\n        \"std\": 15.387833664730909,\n        \"min\": 55.3151,\n        \"max\": 129.4048,\n        \"num_unique_values\": 397,\n        \"samples\": [\n          83.277,\n          100.4386,\n          87.5262\n        ],\n        \"semantic_type\": \"\",\n        \"description\": \"\"\n      }\n    }\n  ]\n}"
            }
          },
          "metadata": {},
          "execution_count": 210
        }
      ]
    },
    {
      "cell_type": "markdown",
      "source": [
        "# Modelling"
      ],
      "metadata": {
        "id": "IrRbKOPKVuaZ"
      }
    },
    {
      "cell_type": "markdown",
      "source": [
        "## Bagging Regressor"
      ],
      "metadata": {
        "id": "Pm6GVh4-2sFA"
      }
    },
    {
      "cell_type": "markdown",
      "source": [
        "### Membagi Data"
      ],
      "metadata": {
        "id": "uU-uDcNn2zHk"
      }
    },
    {
      "cell_type": "markdown",
      "source": [
        "Code dibawah ini digunakan untuk membagi data menjadi data train dan juga data test, dimana jumlah data test yang akan digunakan sebanyak 20% dan data train yang akan digunakan sebanyak 80%, data yang lain tidak akan dilakukan pengacakan sebelum pembagian data untuk mempertahankan urutan temporal dari data"
      ],
      "metadata": {
        "id": "txo5V9pt5VUK"
      }
    },
    {
      "cell_type": "code",
      "source": [
        "# Menyembunyikan semua warning\n",
        "warnings.filterwarnings(\"ignore\")\n",
        "\n",
        "# Asumsi DataFrame 'df' sudah diinisialisasi\n",
        "# Gantilah ini dengan data Anda yang sebenarnya\n",
        "# df = pd.DataFrame({\n",
        "#     'DATE': pd.date_range(start='2020-01-01', periods=60, freq='M'),\n",
        "#     'IPG2211A2N': np.random.rand(60) * 100  # Contoh nilai acak\n",
        "# })\n",
        "\n",
        "# Mengatur kolom tanggal sebagai indeks\n",
        "# df['DATE'] = pd.to_datetime(df['DATE'])  # Pastikan kolom tanggal dalam format datetime\n",
        "# df.set_index('DATE', inplace=True)\n",
        "\n",
        "# Menambahkan lagged features\n",
        "df['lag1'] = df['IPG2211A2N'].shift(1)\n",
        "df['lag2'] = df['IPG2211A2N'].shift(2)\n",
        "df['lag3'] = df['IPG2211A2N'].shift(3)\n",
        "\n",
        "# Drop missing values yang muncul karena lagging\n",
        "df = df.dropna()\n",
        "\n",
        "# Menyiapkan data untuk model\n",
        "X = df[['lag1', 'lag2', 'lag3']]  # Fitur lagged\n",
        "y = df['IPG2211A2N']  # Target\n",
        "\n",
        "# Membagi data menjadi train dan test set tanpa shuffle karena data time series\n",
        "X_train, X_test, y_train, y_test = train_test_split(X, y, test_size=0.2, shuffle=False)\n",
        "# Scaling features\n",
        "scaler = StandardScaler()\n",
        "X_train_scaled = scaler.fit_transform(X_train)\n",
        "X_test_scaled = scaler.transform(X_test)"
      ],
      "metadata": {
        "id": "VjdOg1K82vQM"
      },
      "execution_count": 216,
      "outputs": []
    },
    {
      "cell_type": "markdown",
      "source": [
        "### Membangun model bagging regressor"
      ],
      "metadata": {
        "id": "aZf5tzC829Di"
      }
    },
    {
      "cell_type": "markdown",
      "source": [
        "\n",
        "\n",
        "*   Code dibawah digunakan untuk membangun model bagging yang akan digunakan yaitu menggunakan decision tree dengan menggunakan estimaor sebanyak 100 dengan random state sebanyak 42\n",
        "*   Setelah itu dilakukan pelatihan terkait dengan model yang digunakan dengan menggunakan data yang sudah dibagi sebelumnya\n",
        "*   Setelah itu dilakukan proses prediksi dengan menggunakan data test yang sudah disiapkan sebelumnya\n",
        "*   Setelah itu dilakukan perhitungan untuk metrik evaluasi untuk mengukur kinerja dan kualitas dari model regresi yang digunakan"
      ],
      "metadata": {
        "id": "-N9OqStu8MnU"
      }
    },
    {
      "cell_type": "code",
      "source": [
        "# Membuat Bagging Regressor menggunakan DecisionTree sebagai base model\n",
        "bagging_model = BaggingRegressor(estimator=DecisionTreeRegressor(), n_estimators=100, random_state=42)\n",
        "\n",
        "# Melatih Bagging Regressor\n",
        "bagging_model.fit(X_train, y_train)\n",
        "\n",
        "# Prediksi menggunakan Bagging Regressor pada data test\n",
        "y_pred_bagging = bagging_model.predict(X_test)\n",
        "\n",
        "# Menghitung Mean Squared Error (MSE), RMSE, MAE, dan R^2\n",
        "mse_bagging = mean_squared_error(y_test, y_pred_bagging)\n",
        "rmse_bagging = np.sqrt(mse_bagging)\n",
        "mae_bagging = mean_absolute_error(y_test, y_pred_bagging)\n",
        "r2_bagging = r2_score(y_test, y_pred_bagging)\n",
        "\n",
        "print(f'Mean Squared Error (MSE) Bagging: {mse_bagging}')\n",
        "print(f'Root Mean Squared Error (RMSE) Bagging: {rmse_bagging}')\n",
        "print(f'Mean Absolute Error (MAE) Bagging: {mae_bagging}')\n",
        "print(f'R-squared (R²) Bagging: {r2_bagging}')\n"
      ],
      "metadata": {
        "colab": {
          "base_uri": "https://localhost:8080/"
        },
        "id": "Oqs-k0rP25Wv",
        "outputId": "38afaec7-6e65-4def-cc05-43350daff94d"
      },
      "execution_count": 217,
      "outputs": [
        {
          "output_type": "stream",
          "name": "stdout",
          "text": [
            "Mean Squared Error (MSE) Bagging: 51.22539638728989\n",
            "Root Mean Squared Error (RMSE) Bagging: 7.1571919345012605\n",
            "Mean Absolute Error (MAE) Bagging: 4.989758666666669\n",
            "R-squared (R²) Bagging: 0.4429815998194505\n"
          ]
        }
      ]
    },
    {
      "cell_type": "markdown",
      "source": [
        "### Visualisasi bagging"
      ],
      "metadata": {
        "id": "hGadBbyP3E2w"
      }
    },
    {
      "cell_type": "markdown",
      "source": [
        "Code dibawah digunakan untuk melakukan prediksi dengan menggunakan sliding windows dan juga menampilkan visualisasi data."
      ],
      "metadata": {
        "id": "UKQHTUO--cLd"
      }
    },
    {
      "cell_type": "code",
      "source": [
        "# df['DATE'] = pd.to_datetime(df['DATE'])  # Pastikan kolom tanggal dalam format datetime\n",
        "# df.set_index('DATE', inplace=True)\n",
        "# === Prediksi Bagging untuk periode yang akan datang ===\n",
        "n_future_steps = 12  # Prediksi 12 bulan ke depan\n",
        "last_window = X.values[-1]  # Ambil window terakhir dari fitur lagged\n",
        "\n",
        "# Melakukan prediksi dengan menerapkan pendekatan sliding windows\n",
        "future_predictions = []\n",
        "for _ in range(n_future_steps):\n",
        "    last_window_df = pd.DataFrame([last_window], columns=['lag1', 'lag2', 'lag3'])\n",
        "    next_pred = bagging_model.predict(last_window_df)  # Prediksi langkah berikutnya\n",
        "    future_predictions.append(next_pred[0])  # Simpan prediksi\n",
        "    # Update last_window untuk prediksi berikutnya\n",
        "    last_window = np.roll(last_window, -1)  # Geser window\n",
        "    last_window[-1] = next_pred[0]  # Masukkan prediksi baru ke dalam window\n",
        "\n",
        "# Membuat index untuk prediksi di masa depan\n",
        "future_index = pd.date_range(start=df.index[-1] + pd.DateOffset(months=1), periods=n_future_steps, freq='M')\n",
        "\n",
        "# Visualisasi hasil prediksi ke depan\n",
        "plt.figure(figsize=(12, 6))\n",
        "plt.plot(df.index, df['IPG2211A2N'], label='Data Aktual', color='blue', linewidth=2)  # Data aktual\n",
        "plt.plot(future_index, future_predictions, label='Prediksi Menggunakan Bagging', color='orange', linewidth=2)  # Prediksi\n",
        "plt.axvline(x=df.index[-1], color='red', linestyle='--', label='Titik Prediksi')  # Garis vertikal untuk batas prediksi\n",
        "plt.title('Prediksi Menggunakan Bagging Regressor')\n",
        "plt.xlabel('Tanggal')\n",
        "plt.ylabel('Produksi Listrik')\n",
        "plt.legend()\n",
        "plt.grid()\n",
        "plt.show()"
      ],
      "metadata": {
        "colab": {
          "base_uri": "https://localhost:8080/",
          "height": 564
        },
        "id": "hDXI1HI_3EXd",
        "outputId": "8e2276da-4916-4c37-edc0-590c5d3266f7"
      },
      "execution_count": 222,
      "outputs": [
        {
          "output_type": "display_data",
          "data": {
            "text/plain": [
              "<Figure size 1200x600 with 1 Axes>"
            ],
            "image/png": "[encoded data removed]"
          },
          "metadata": {}
        }
      ]
    }
  ]
}